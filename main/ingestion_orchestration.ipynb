{
 "cells": [
  {
   "cell_type": "markdown",
   "metadata": {
    "application/vnd.databricks.v1+cell": {
     "cellMetadata": {},
     "inputWidgets": {},
     "nuid": "43c04448-dfc0-4bc9-8d97-a21278a3121f",
     "showTitle": false,
     "tableResultSettingsMap": {},
     "title": ""
    }
   },
   "source": [
    "This notebook orchestrates metadata-driven data ingestion workflows in Databricks. It enables users to trigger immediate or scheduled ingestion jobs for tables defined in metadata, supporting both ad-hoc and automated ingestion scenarios.\n",
    "\n",
    "## Key Features\n",
    "\n",
    "- **Connection and Table Metadata Management:**  \n",
    "  Loads connection and table metadata from Delta tables (`connection_metadata`, `table_metadata`) to drive ingestion logic.\n",
    "\n",
    "- **User Input via Widgets:**  \n",
    "  Uses Databricks widgets to capture user input for connection selection, table selection (optional), schema, ingestion mode (immediate or scheduled), cron expression for scheduling, and run ID.\n",
    "\n",
    "- **Run Metadata Logging:**  \n",
    "  Each ingestion run is logged in the `run_metadata` table, capturing run ID, connection, user, timestamp, and ingestion mode.\n",
    "\n",
    "- **Immediate Ingestion:**  \n",
    "  If \"immediate\" mode is selected, the notebook triggers ingestion for the specified table or all tables under the selected connection by invoking a child notebook (`metadata_driven_ingestion`).\n",
    "\n",
    "- **Scheduled Ingestion:**  \n",
    "  If \"schedule\" mode is selected, the notebook writes a new schedule entry to the `ingestion_schedule` table, including cron expression and scheduling metadata.\n",
    "\n",
    "- **Extensibility:**  \n",
    "  The notebook is modular, with a `MetadataManager` class for metadata access and clear separation of orchestration logic.\n",
    "\n",
    "## Workflow\n",
    "\n",
    "1. **Metadata Loading:**  \n",
    "   Loads connection and table metadata using the `MetadataManager` class.\n",
    "\n",
    "2. **Widget Setup:**  \n",
    "   Prompts the user to select a connection, optionally a table, specify schema, ingestion mode, cron expression, and run ID.\n",
    "\n",
    "3. **Parameter Extraction:**  \n",
    "   Extracts widget values and generates a run ID if not provided.\n",
    "\n",
    "4. **Connection and Table Selection:**  \n",
    "   Filters metadata to identify the selected connection and relevant tables.\n",
    "\n",
    "5. **Run Metadata Logging:**  \n",
    "   Logs the orchestration run in the `run_metadata` table for audit and tracking.\n",
    "\n",
    "6. **Ingestion Execution:**  \n",
    "   - **Immediate Mode:** Runs ingestion for the selected table(s) by calling the child notebook.\n",
    "   - **Schedule Mode:** Writes a new schedule entry to the `ingestion_schedule` table for future execution.\n",
    "\n",
    "## Usage\n",
    "\n",
    "- **Immediate Ingestion:**  \n",
    "  Select a connection, optionally a table, set mode to \"immediate\", and run the notebook to trigger ingestion.\n",
    "\n",
    "- **Scheduled Ingestion:**  \n",
    "  Select a connection, optionally a table, set mode to \"schedule\", specify a cron expression, and run the notebook to schedule ingestion.\n",
    "\n",
    "## Prerequisites\n",
    "\n",
    "- Delta tables: `connection_metadata`, `table_metadata`, `run_metadata`, `ingestion_schedule`\n",
    "- Child notebook: `metadata_driven_ingestion`\n",
    "- Required libraries: `croniter` (for cron expression handling)\n",
    "\n",
    "## Notes\n",
    "\n",
    "- The notebook uses Spark DataFrames for all data operations.\n",
    "- All user interactions are handled via Databricks widgets.\n",
    "- The notebook is designed for extensibility and integration into larger data engineering workflows."
   ]
  },
  {
   "cell_type": "code",
   "execution_count": 0,
   "metadata": {
    "application/vnd.databricks.v1+cell": {
     "cellMetadata": {
      "byteLimit": 2048000,
      "rowLimit": 10000
     },
     "inputWidgets": {},
     "nuid": "12a13c89-22d2-4987-8d2d-03e5a2c20cf3",
     "showTitle": false,
     "tableResultSettingsMap": {},
     "title": ""
    }
   },
   "outputs": [],
   "source": [
    "# Databricks notebook: Ingestion Orchestration\n",
    "from pyspark.sql import SparkSession, DataFrame\n",
    "import uuid\n",
    "from pyspark.sql import Row\n",
    "import datetime"
   ]
  },
  {
   "cell_type": "code",
   "execution_count": 0,
   "metadata": {
    "application/vnd.databricks.v1+cell": {
     "cellMetadata": {
      "byteLimit": 2048000,
      "rowLimit": 10000
     },
     "inputWidgets": {},
     "nuid": "17a687ad-44f9-4f60-8027-9c101340ab6b",
     "showTitle": false,
     "tableResultSettingsMap": {},
     "title": ""
    }
   },
   "outputs": [],
   "source": [
    "class MetadataManager:\n",
    "    def __init__(self, spark: SparkSession):\n",
    "        self.spark = spark\n",
    "\n",
    "    def load_connection_metadata(self):\n",
    "        return self.spark.table('connection_metadata')\n",
    "\n",
    "    def load_table_metadata(self):\n",
    "        return self.spark.table('table_metadata')"
   ]
  },
  {
   "cell_type": "code",
   "execution_count": 0,
   "metadata": {
    "application/vnd.databricks.v1+cell": {
     "cellMetadata": {
      "byteLimit": 2048000,
      "rowLimit": 10000
     },
     "inputWidgets": {},
     "nuid": "446f3459-87d7-40b2-a7be-9184688c7d5f",
     "showTitle": false,
     "tableResultSettingsMap": {},
     "title": ""
    }
   },
   "outputs": [],
   "source": [
    "spark = SparkSession.builder.getOrCreate()\n",
    "metadata = MetadataManager(spark)"
   ]
  },
  {
   "cell_type": "code",
   "execution_count": 0,
   "metadata": {
    "application/vnd.databricks.v1+cell": {
     "cellMetadata": {
      "byteLimit": 2048000,
      "rowLimit": 10000
     },
     "inputWidgets": {},
     "nuid": "4eb24e92-fd1e-4a50-86b5-ea7a521a411d",
     "showTitle": false,
     "tableResultSettingsMap": {},
     "title": ""
    }
   },
   "outputs": [],
   "source": [
    "dbutils.widgets.text(\"connection_id\", \"\")\n",
    "#dbutils.widgets.text(\"connection_idx\", \"1\", \"Select connection (number)\")\n",
    "dbutils.widgets.text(\"table_id\", \"\", \"Table ID (optional, for single table)\")\n",
    "dbutils.widgets.text(\"schema\", \"\")\n",
    "dbutils.widgets.dropdown(\"ingest_mode\", \"immediate\", [\"immediate\", \"schedule\"], \"Ingestion Mode\")\n",
    "dbutils.widgets.text(\"cron_expression\", \"0 2 * * *\", \"Cron Expression (if scheduled)\")\n",
    "dbutils.widgets.text(\"run_id\", \"\", \"Run ID (leave blank to auto-generate)\")\n",
    "schema = dbutils.widgets.get(\"schema\")"
   ]
  },
  {
   "cell_type": "code",
   "execution_count": 0,
   "metadata": {
    "application/vnd.databricks.v1+cell": {
     "cellMetadata": {
      "byteLimit": 2048000,
      "rowLimit": 10000
     },
     "inputWidgets": {},
     "nuid": "c5bb284a-b998-47eb-9b1b-7a085c5ceea4",
     "showTitle": false,
     "tableResultSettingsMap": {},
     "title": ""
    }
   },
   "outputs": [],
   "source": [
    "connection_id = dbutils.widgets.get(\"connection_id\")\n",
    "#connection_idx = int(dbutils.widgets.get(\"connection_idx\")) - 1\n",
    "table_id = dbutils.widgets.get(\"table_id\")\n",
    "ingest_mode = dbutils.widgets.get(\"ingest_mode\")\n",
    "cron_expression = dbutils.widgets.get(\"cron_expression\")\n",
    "run_id_param = dbutils.widgets.get(\"run_id\")\n",
    "run_id = run_id_param if run_id_param else str(uuid.uuid4())"
   ]
  },
  {
   "cell_type": "code",
   "execution_count": 0,
   "metadata": {
    "application/vnd.databricks.v1+cell": {
     "cellMetadata": {
      "byteLimit": 2048000,
      "rowLimit": 10000
     },
     "inputWidgets": {},
     "nuid": "cabecd46-61c8-4d44-9727-bcb55f34813c",
     "showTitle": false,
     "tableResultSettingsMap": {},
     "title": ""
    }
   },
   "outputs": [
    {
     "output_type": "stream",
     "name": "stdout",
     "output_type": "stream",
     "text": [
      "Row(connection_id='conn_postgres_chinook', type='postgresql', host='ep-sweet-snow-aeztchbb-pooler.c-2.us-east-2.aws.neon.tech', port=5432, database='chinook', schema='public', username='neondb_owner', password='npg_7Bd4JRTiqnox', options='')\n"
     ]
    }
   ],
   "source": [
    "# 1. List available connections and tables\n",
    "\n",
    "conn_df = metadata.load_connection_metadata()\n",
    "table_df = metadata.load_table_metadata()\n",
    "connections = conn_df.filter(conn_df[\"connection_id\"] == connection_id).collect()[0]\n",
    "print(connections)\n",
    "\n",
    "\n"
   ]
  },
  {
   "cell_type": "code",
   "execution_count": 0,
   "metadata": {
    "application/vnd.databricks.v1+cell": {
     "cellMetadata": {
      "byteLimit": 2048000,
      "rowLimit": 10000
     },
     "inputWidgets": {},
     "nuid": "621d2b03-98d6-41bb-b622-dad0b4fd0346",
     "showTitle": false,
     "tableResultSettingsMap": {},
     "title": ""
    }
   },
   "outputs": [
    {
     "output_type": "stream",
     "name": "stdout",
     "output_type": "stream",
     "text": [
      "Row(run_id='6af31011-b48c-4815-a4eb-15799f3b12c1', connection_id='conn_postgres_chinook', dateandtime=datetime.datetime(2025, 7, 31, 19, 20, 2, 745996), user='mustafasajidsd@gmail.com', ingest_mode='schedule')\n"
     ]
    }
   ],
   "source": [
    "run_metadata_row = Row(\n",
    "    run_id=str(run_id),\n",
    "    connection_id=connection_id,\n",
    "    dateandtime=datetime.datetime.now(),\n",
    "    user=dbutils.notebook.entry_point.getDbutils().notebook().getContext().userName().get(),\n",
    "    ingest_mode=ingest_mode\n",
    ")\n",
    "\n",
    "print(run_metadata_row)\n",
    "run_metadata_df = spark.createDataFrame([run_metadata_row])\n",
    "run_metadata_df.write.format(\"delta\").mode(\"append\").saveAsTable(\"run_metadata\")"
   ]
  },
  {
   "cell_type": "code",
   "execution_count": 0,
   "metadata": {
    "application/vnd.databricks.v1+cell": {
     "cellMetadata": {
      "byteLimit": 2048000,
      "rowLimit": 10000
     },
     "inputWidgets": {},
     "nuid": "3eb39fbb-78d9-44ac-b59f-d098d0b78126",
     "showTitle": false,
     "tableResultSettingsMap": {},
     "title": ""
    }
   },
   "outputs": [
    {
     "output_type": "stream",
     "name": "stdout",
     "output_type": "stream",
     "text": [
      "Row(connection_id='conn_postgres_chinook', type='postgresql', host='ep-sweet-snow-aeztchbb-pooler.c-2.us-east-2.aws.neon.tech', port=5432, database='chinook', schema='public', username='neondb_owner', password='npg_7Bd4JRTiqnox', options='')\n"
     ]
    }
   ],
   "source": [
    "selected_conn = connections\n",
    "print(selected_conn)"
   ]
  },
  {
   "cell_type": "code",
   "execution_count": 0,
   "metadata": {
    "application/vnd.databricks.v1+cell": {
     "cellMetadata": {
      "byteLimit": 2048000,
      "rowLimit": 10000
     },
     "inputWidgets": {},
     "nuid": "122fb83a-743d-46ea-8ae6-66ed27cf8f62",
     "showTitle": false,
     "tableResultSettingsMap": {},
     "title": ""
    }
   },
   "outputs": [],
   "source": [
    "# 2. Immediate or scheduled ingestion\n",
    "if ingest_mode == \"immediate\":\n",
    "    # If table_id is provided, ingest just that table; else, all tables for the connection\n",
    "    table_ids = [table_id] if table_id else [row.table_id for row in table_df.filter(table_df.connection_id == selected_conn.connection_id).collect()]\n",
    "    table_ids_str = \",\".join(table_ids)\n",
    "    import uuid\n",
    "    #run_id = str(uuid.uuid4())\n",
    "    result = dbutils.notebook.run(\"metadata_driven_ingestion\", 600, {\n",
    "        \"table_ids\": table_ids_str,\n",
    "        \"run_id\": run_id,\n",
    "        \"schema\": schema\n",
    "    })\n",
    "    print(result)\n",
    "    print(table_ids_str)\n",
    "    print(f\"Run ID: {run_id}\")\n",
    "    print(\"Ingestion complete.\")\n",
    "else:\n",
    "    # Write to ingestion_schedule table\n",
    "    from pyspark.sql import Row\n",
    "    import uuid, datetime\n",
    "    schedule_id = str(uuid.uuid4())\n",
    "    schedule_type = \"table\" if table_id else \"connection\"\n",
    "    now = datetime.datetime.now()\n",
    "    schedule_row = Row(\n",
    "        schedule_id=schedule_id,\n",
    "        connection_id=selected_conn.connection_id,\n",
    "        table_id=table_id if table_id else None,\n",
    "        schedule_type=schedule_type,\n",
    "        cron_expression=cron_expression,\n",
    "        active_flag=\"Y\",\n",
    "        last_run=None,\n",
    "        next_run=None,\n",
    "        comments=f\"Scheduled via orchestration notebook at {now}\"\n",
    "    )"
   ]
  },
  {
   "cell_type": "code",
   "execution_count": 0,
   "metadata": {
    "application/vnd.databricks.v1+cell": {
     "cellMetadata": {
      "byteLimit": 2048000,
      "rowLimit": 10000
     },
     "inputWidgets": {},
     "nuid": "b91fd29f-bd93-4c35-b530-82e388e44a43",
     "showTitle": false,
     "tableResultSettingsMap": {},
     "title": ""
    }
   },
   "outputs": [
    {
     "output_type": "stream",
     "name": "stdout",
     "output_type": "stream",
     "text": [
      "Requirement already satisfied: croniter in /local_disk0/.ephemeral_nfs/envs/pythonEnv-ef4bd0ba-750d-4637-b401-5af0c9300dff/lib/python3.11/site-packages (6.0.0)\nRequirement already satisfied: python-dateutil in /databricks/python3/lib/python3.11/site-packages (from croniter) (2.8.2)\nRequirement already satisfied: pytz>2021.1 in /databricks/python3/lib/python3.11/site-packages (from croniter) (2022.7)\nRequirement already satisfied: six>=1.5 in /usr/lib/python3/dist-packages (from python-dateutil->croniter) (1.16.0)\n\u001B[43mNote: you may need to restart the kernel using %restart_python or dbutils.library.restartPython() to use updated packages.\u001B[0m\n"
     ]
    }
   ],
   "source": [
    "%pip install croniter"
   ]
  },
  {
   "cell_type": "code",
   "execution_count": 0,
   "metadata": {
    "application/vnd.databricks.v1+cell": {
     "cellMetadata": {
      "byteLimit": 2048000,
      "rowLimit": 10000
     },
     "inputWidgets": {},
     "nuid": "aebed934-ad2c-4021-9754-f2d7d3bd2d3f",
     "showTitle": false,
     "tableResultSettingsMap": {},
     "title": ""
    }
   },
   "outputs": [
    {
     "output_type": "display_data",
     "data": {
      "text/html": [
       "<style scoped>\n",
       "  .table-result-container {\n",
       "    max-height: 300px;\n",
       "    overflow: auto;\n",
       "  }\n",
       "  table, th, td {\n",
       "    border: 1px solid black;\n",
       "    border-collapse: collapse;\n",
       "  }\n",
       "  th, td {\n",
       "    padding: 5px;\n",
       "  }\n",
       "  th {\n",
       "    text-align: left;\n",
       "  }\n",
       "</style><div class='table-result-container'><table class='table-result'><thead style='background-color: white'><tr><th>schedule_id</th><th>connection_id</th><th>table_id</th><th>schedule_type</th><th>cron_expression</th><th>active_flag</th><th>last_run</th><th>next_run</th><th>comments</th></tr></thead><tbody><tr><td>74787660-c5fc-43a5-9a3a-0acf9c47d6e9</td><td>conn_postgres_chinook</td><td></td><td>connection</td><td>0 3 * * *</td><td>Y</td><td>2025-07-31T18:53:16.665Z</td><td>2025-08-01T03:00:00.000Z</td><td>Scheduled via orchestration notebook at 2025-07-31 18:53:16.665448</td></tr></tbody></table></div>"
      ]
     },
     "metadata": {
      "application/vnd.databricks.v1+output": {
       "addedWidgets": {},
       "aggData": [],
       "aggError": "",
       "aggOverflow": false,
       "aggSchema": [],
       "aggSeriesLimitReached": false,
       "aggType": "",
       "arguments": {},
       "columnCustomDisplayInfos": {},
       "data": [
        [
         "74787660-c5fc-43a5-9a3a-0acf9c47d6e9",
         "conn_postgres_chinook",
         "",
         "connection",
         "0 3 * * *",
         "Y",
         "2025-07-31T18:53:16.665Z",
         "2025-08-01T03:00:00.000Z",
         "Scheduled via orchestration notebook at 2025-07-31 18:53:16.665448"
        ]
       ],
       "datasetInfos": [],
       "dbfsResultPath": null,
       "isJsonSchema": true,
       "metadata": {},
       "overflow": false,
       "plotOptions": {
        "customPlotOptions": {},
        "displayType": "table",
        "pivotAggregation": null,
        "pivotColumns": null,
        "xColumns": null,
        "yColumns": null
       },
       "removedWidgets": [],
       "schema": [
        {
         "metadata": "{}",
         "name": "schedule_id",
         "type": "\"string\""
        },
        {
         "metadata": "{}",
         "name": "connection_id",
         "type": "\"string\""
        },
        {
         "metadata": "{}",
         "name": "table_id",
         "type": "\"string\""
        },
        {
         "metadata": "{}",
         "name": "schedule_type",
         "type": "\"string\""
        },
        {
         "metadata": "{}",
         "name": "cron_expression",
         "type": "\"string\""
        },
        {
         "metadata": "{}",
         "name": "active_flag",
         "type": "\"string\""
        },
        {
         "metadata": "{}",
         "name": "last_run",
         "type": "\"timestamp\""
        },
        {
         "metadata": "{}",
         "name": "next_run",
         "type": "\"timestamp\""
        },
        {
         "metadata": "{}",
         "name": "comments",
         "type": "\"string\""
        }
       ],
       "type": "table"
      }
     },
     "output_type": "display_data"
    }
   ],
   "source": [
    "if ingest_mode == \"schedule\":\n",
    "    from croniter import croniter\n",
    "\n",
    "    schedule_id = str(uuid.uuid4())\n",
    "    schedule_type = \"table\" if table_id else \"connection\"\n",
    "    now = datetime.datetime.now()\n",
    "\n",
    "    # Check for duplicate\n",
    "    existing = spark.sql(f\"\"\"\n",
    "        SELECT 1 FROM ingestion_schedule\n",
    "        WHERE connection_id = '{selected_conn.connection_id}'\n",
    "          AND table_id = '{table_id if table_id else ''}'\n",
    "          AND schedule_type = '{schedule_type}'\n",
    "          AND active_flag = 'Y'\n",
    "        LIMIT 1\n",
    "    \"\"\").collect()\n",
    "\n",
    "    if existing:\n",
    "        print(\"There is already an entry for this combination of connection_id, table_id, schedule_type, and active_flag.\")\n",
    "    else:\n",
    "        # Calculate next_run using cron_expression\n",
    "        next_run = croniter(cron_expression, now).get_next(datetime.datetime)\n",
    "\n",
    "        schedule_row = Row(\n",
    "            schedule_id=schedule_id,\n",
    "            connection_id=selected_conn.connection_id,\n",
    "            table_id=table_id if table_id else '',\n",
    "            schedule_type=schedule_type,\n",
    "            cron_expression=cron_expression,\n",
    "            active_flag=\"Y\",\n",
    "            last_run=now,\n",
    "            next_run=next_run,\n",
    "            comments=f\"Scheduled via orchestration notebook at {now}\"\n",
    "        )\n",
    "\n",
    "        schedule_df = spark.createDataFrame([schedule_row])\n",
    "        schedule_df.write.format(\"delta\").mode(\"append\").saveAsTable(\"ingestion_schedule\")\n",
    "        display(schedule_df)"
   ]
  }
 ],
 "metadata": {
  "application/vnd.databricks.v1+notebook": {
   "computePreferences": null,
   "dashboards": [],
   "environmentMetadata": {
    "base_environment": "",
    "environment_version": "2"
   },
   "inputWidgetPreferences": null,
   "language": "python",
   "notebookMetadata": {
    "mostRecentlyExecutedCommandWithImplicitDF": {
     "commandId": 5312621631102681,
     "dataframes": [
      "_sqldf"
     ]
    },
    "pythonIndentUnit": 4
   },
   "notebookName": "ingestion_orchestration",
   "widgets": {
    "connection_id": {
     "currentValue": "conn_postgres_chinook",
     "nuid": "464c14cc-45a1-4c1e-abb2-a71b5e1e7663",
     "typedWidgetInfo": {
      "autoCreated": false,
      "defaultValue": "",
      "label": null,
      "name": "connection_id",
      "options": {
       "widgetDisplayType": "Text",
       "validationRegex": null
      },
      "parameterDataType": "String"
     },
     "widgetInfo": {
      "widgetType": "text",
      "defaultValue": "",
      "label": null,
      "name": "connection_id",
      "options": {
       "widgetType": "text",
       "autoCreated": null,
       "validationRegex": null
      }
     }
    },
    "connection_idx": {
     "currentValue": "1",
     "nuid": "fe1e9e9f-8ed5-4332-abc1-64077cc14f5d",
     "typedWidgetInfo": {
      "autoCreated": false,
      "defaultValue": "1",
      "label": "Select connection (number)",
      "name": "connection_idx",
      "options": {
       "widgetDisplayType": "Text",
       "validationRegex": null
      },
      "parameterDataType": "String"
     },
     "widgetInfo": {
      "widgetType": "text",
      "defaultValue": "1",
      "label": "Select connection (number)",
      "name": "connection_idx",
      "options": {
       "widgetType": "text",
       "autoCreated": null,
       "validationRegex": null
      }
     }
    },
    "cron_expression": {
     "currentValue": "0 3 * * *",
     "nuid": "630dbbb3-2ae9-4cc3-8e77-3f0a51b28312",
     "typedWidgetInfo": {
      "autoCreated": false,
      "defaultValue": "0 2 * * *",
      "label": "Cron Expression (if scheduled)",
      "name": "cron_expression",
      "options": {
       "widgetDisplayType": "Text",
       "validationRegex": null
      },
      "parameterDataType": "String"
     },
     "widgetInfo": {
      "widgetType": "text",
      "defaultValue": "0 2 * * *",
      "label": "Cron Expression (if scheduled)",
      "name": "cron_expression",
      "options": {
       "widgetType": "text",
       "autoCreated": null,
       "validationRegex": null
      }
     }
    },
    "ingest_mode": {
     "currentValue": "schedule",
     "nuid": "b1ab8638-2614-4aab-8214-45a4d073589b",
     "typedWidgetInfo": {
      "autoCreated": false,
      "defaultValue": "immediate",
      "label": "Ingestion Mode",
      "name": "ingest_mode",
      "options": {
       "widgetDisplayType": "Dropdown",
       "choices": [
        "immediate",
        "schedule"
       ],
       "fixedDomain": true,
       "multiselect": false
      },
      "parameterDataType": "String"
     },
     "widgetInfo": {
      "widgetType": "dropdown",
      "defaultValue": "immediate",
      "label": "Ingestion Mode",
      "name": "ingest_mode",
      "options": {
       "widgetType": "dropdown",
       "autoCreated": null,
       "choices": [
        "immediate",
        "schedule"
       ]
      }
     }
    },
    "run_id": {
     "currentValue": "",
     "nuid": "785e494b-7202-4685-a353-8b7790bce920",
     "typedWidgetInfo": {
      "autoCreated": false,
      "defaultValue": "",
      "label": "Run ID (leave blank to auto-generate)",
      "name": "run_id",
      "options": {
       "widgetDisplayType": "Text",
       "validationRegex": null
      },
      "parameterDataType": "String"
     },
     "widgetInfo": {
      "widgetType": "text",
      "defaultValue": "",
      "label": "Run ID (leave blank to auto-generate)",
      "name": "run_id",
      "options": {
       "widgetType": "text",
       "autoCreated": null,
       "validationRegex": null
      }
     }
    },
    "schema": {
     "currentValue": "",
     "nuid": "6b4085f8-e07d-4ac5-91cb-f0c612818f0e",
     "typedWidgetInfo": {
      "autoCreated": false,
      "defaultValue": "",
      "label": null,
      "name": "schema",
      "options": {
       "widgetDisplayType": "Text",
       "validationRegex": null
      },
      "parameterDataType": "String"
     },
     "widgetInfo": {
      "widgetType": "text",
      "defaultValue": "",
      "label": null,
      "name": "schema",
      "options": {
       "widgetType": "text",
       "autoCreated": false,
       "validationRegex": null
      }
     }
    },
    "table_id": {
     "currentValue": "",
     "nuid": "4bb4d5e7-461e-4420-a06c-5726534e5a61",
     "typedWidgetInfo": {
      "autoCreated": false,
      "defaultValue": "",
      "label": "Table ID (optional, for single table)",
      "name": "table_id",
      "options": {
       "widgetDisplayType": "Text",
       "validationRegex": null
      },
      "parameterDataType": "String"
     },
     "widgetInfo": {
      "widgetType": "text",
      "defaultValue": "",
      "label": "Table ID (optional, for single table)",
      "name": "table_id",
      "options": {
       "widgetType": "text",
       "autoCreated": null,
       "validationRegex": null
      }
     }
    }
   }
  },
  "language_info": {
   "name": "python"
  }
 },
 "nbformat": 4,
 "nbformat_minor": 0
}