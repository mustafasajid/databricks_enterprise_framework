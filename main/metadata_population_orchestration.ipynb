{
 "cells": [
  {
   "cell_type": "markdown",
   "metadata": {
    "application/vnd.databricks.v1+cell": {
     "cellMetadata": {},
     "inputWidgets": {},
     "nuid": "b2b58d02-61ce-4af5-bc91-b716e79b77fc",
     "showTitle": false,
     "tableResultSettingsMap": {},
     "title": ""
    }
   },
   "source": [
    " This notebook orchestrates the population of metadata tables required for metadata-driven data ingestion workflows.\n",
    " \n",
    " **Key Steps:**\n",
    " 1. **Metadata Table Management:**  \n",
    "    - Checks for the existence of required metadata tables (`connection_metadata`, `table_metadata`).\n",
    "    - Provides instructions if tables are missing.\n",
    " \n",
    " 2. **MetadataManager Class:**  \n",
    "    - Encapsulates logic to load metadata tables as Spark DataFrames.\n",
    " \n",
    " 3. **Connection Listing:**  \n",
    "    - Loads available connections from `connection_metadata`.\n",
    "    - Displays connection details for user selection.\n",
    " \n",
    " 4. **User Input via Widgets:**  \n",
    "    - Collects user input for connection selection, schema, target database, and storage details using Databricks widgets.\n",
    " \n",
    " 5. **Connection Selection:**  \n",
    "    - Filters the connections based on user input.\n",
    "    - Sets the schema context for metadata population.\n",
    " \n",
    " 6. **Metadata Auto-Population:**  \n",
    "    - Triggers a separate notebook (`metadata_auto_populate`) to populate metadata tables using the provided parameters.\n",
    " \n",
    " 7. **Completion and Next Steps:**  \n",
    "    - Informs the user upon completion.\n",
    "    - Guides the user to proceed with metadata-driven ingestion using the populated metadata.\n",
    " \n",
    " This notebook is intended for data engineers and analysts to set up and manage metadata required for automated data ingestion pipelines in Databricks."
   ]
  },
  {
   "cell_type": "markdown",
   "metadata": {
    "application/vnd.databricks.v1+cell": {
     "cellMetadata": {},
     "inputWidgets": {},
     "nuid": "a70360c5-7082-45aa-b73b-cefc9242ec45",
     "showTitle": false,
     "tableResultSettingsMap": {},
     "title": ""
    }
   },
   "source": [
    "%md\n",
    "✅ If target_path_type is anything else (default local mount):\n",
    "The system will default to a general path under /mnt/datalake.\n",
    "\n",
    "You must provide:\n",
    "\n",
    "tgt_tbl_name: The target table or file name.\n",
    "\n",
    "(Optional) target_db: Used as a folder inside /mnt/datalake.\n",
    "\n",
    "Resulting path example:\n",
    "/mnt/datalake/<target_db>/<tgt_tbl_name>\n",
    "\n",
    "✅ If target_path_type is abfss (Azure Data Lake Gen2):\n",
    "This format is used for writing to Azure Storage accounts with hierarchical namespaces.\n",
    "\n",
    "You must provide:\n",
    "\n",
    "target_container: The container name inside your Azure storage account.\n",
    "\n",
    "target_account: The Azure storage account name.\n",
    "\n",
    "tgt_tbl_name: The target table or file name.\n",
    "\n",
    "(Optional) target_db: If provided, it will be used as a folder inside the container.\n",
    "\n",
    "Resulting path example:\n",
    "abfss://<target_container>@<target_account>.dfs.core.windows.net/<target_db>/<tgt_tbl_name>\n",
    "\n",
    "✅ If target_path_type is s3 (Amazon S3):\n",
    "This format is used for writing to AWS S3 buckets.\n",
    "\n",
    "You must provide:\n",
    "\n",
    "target_bucket: Your S3 bucket name.\n",
    "\n",
    "tgt_tbl_name: The target table or file name.\n",
    "\n",
    "(Optional) target_db: If provided, it will be used as a folder in the bucket.\n",
    "\n",
    "Resulting path example:\n",
    "s3://<target_bucket>/<target_db>/<tgt_tbl_name>\n",
    "\n",
    "✅ If target_path_type is dbfs (Databricks File System):\n",
    "This is used to write files under a mounted path in Databricks File System.\n",
    "\n",
    "You must provide:\n",
    "\n",
    "target_mount: The DBFS mount point.\n",
    "\n",
    "tgt_tbl_name: The target table or file name.\n",
    "\n",
    "(Optional) target_db: Used as a folder inside the mount.\n",
    "\n",
    "Resulting path example:\n",
    "/dbfs/mnt/<target_mount>/<target_db>/<tgt_tbl_name>\n",
    "\n"
   ]
  },
  {
   "cell_type": "code",
   "execution_count": 0,
   "metadata": {
    "application/vnd.databricks.v1+cell": {
     "cellMetadata": {
      "byteLimit": 2048000,
      "rowLimit": 10000
     },
     "inputWidgets": {},
     "nuid": "8ff790bf-b8be-4872-9d21-bb959d750318",
     "showTitle": false,
     "tableResultSettingsMap": {},
     "title": ""
    }
   },
   "outputs": [],
   "source": [
    "# Databricks notebook: Metadata Population Orchestration\n",
    "from pyspark.sql import SparkSession\n",
    "\n",
    "\n"
   ]
  },
  {
   "cell_type": "code",
   "execution_count": 0,
   "metadata": {
    "application/vnd.databricks.v1+cell": {
     "cellMetadata": {
      "byteLimit": 2048000,
      "rowLimit": 10000
     },
     "inputWidgets": {},
     "nuid": "27a1ecb5-c898-4497-ad9a-954e66617590",
     "showTitle": false,
     "tableResultSettingsMap": {},
     "title": ""
    }
   },
   "outputs": [],
   "source": [
    "class MetadataManager:\n",
    "    def __init__(self, spark: SparkSession):\n",
    "        self.spark = spark\n",
    "\n",
    "    def load_connection_metadata(self):\n",
    "        return self.spark.table('connection_metadata')\n",
    "\n",
    "    def load_table_metadata(self):\n",
    "        return self.spark.table('table_metadata')"
   ]
  },
  {
   "cell_type": "code",
   "execution_count": 0,
   "metadata": {
    "application/vnd.databricks.v1+cell": {
     "cellMetadata": {
      "byteLimit": 2048000,
      "rowLimit": 10000
     },
     "inputWidgets": {},
     "nuid": "2a3b77be-9df1-46e5-abf9-dbdb871f8eff",
     "showTitle": false,
     "tableResultSettingsMap": {},
     "title": ""
    }
   },
   "outputs": [
    {
     "output_type": "stream",
     "name": "stdout",
     "output_type": "stream",
     "text": [
      "<__main__.MetadataManager object at 0xffde9b429910>\n"
     ]
    }
   ],
   "source": [
    "spark = SparkSession.builder.getOrCreate()\n",
    "metadata = MetadataManager(spark)\n",
    "\n",
    "print(metadata)"
   ]
  },
  {
   "cell_type": "code",
   "execution_count": 0,
   "metadata": {
    "application/vnd.databricks.v1+cell": {
     "cellMetadata": {
      "byteLimit": 2048000,
      "rowLimit": 10000
     },
     "inputWidgets": {},
     "nuid": "7e3ca0b4-557e-4cbf-bf36-d8e09769cc71",
     "showTitle": false,
     "tableResultSettingsMap": {},
     "title": ""
    }
   },
   "outputs": [],
   "source": [
    "# 1. Check if metadata tables exist\n",
    "#def table_exists(table_name):\n",
    "#    return table_name in [row.name for row in spark.catalog.listTables()]\n",
    "\n",
    "#required_tables = [\"connection_metadata\", \"table_metadata\"]\n",
    "#missing = [t for t in required_tables if not table_exists(t)]\n",
    "#if missing:\n",
    "#    print(f\"Missing required tables: {missing}. Please run metadata_tables_ddl.sql first.\")\n",
    "#    #dbutils.notebook.exit(\"Missing tables\")\n",
    "\n",
    "#print(required_tables)\n",
    "\n"
   ]
  },
  {
   "cell_type": "code",
   "execution_count": 0,
   "metadata": {
    "application/vnd.databricks.v1+cell": {
     "cellMetadata": {
      "byteLimit": 2048000,
      "rowLimit": 10000
     },
     "inputWidgets": {},
     "nuid": "4bd36712-13b7-4252-9cc4-d28b1d187061",
     "showTitle": false,
     "tableResultSettingsMap": {},
     "title": ""
    }
   },
   "outputs": [],
   "source": [
    "# 2. List available connections\n",
    "conn_df = metadata.load_connection_metadata().withColumnRenamed(\"schema\", \"schema_name\")\n",
    "#connections = conn_df.collect()\n",
    "#print(\"Available connections:\")\n",
    "#for idx, row in enumerate(connections):\n",
    "#    print(f\"{idx+1}. {row.connection_id} ({row.type} @ {row.host})\")"
   ]
  },
  {
   "cell_type": "code",
   "execution_count": 0,
   "metadata": {
    "application/vnd.databricks.v1+cell": {
     "cellMetadata": {
      "byteLimit": 2048000,
      "rowLimit": 10000
     },
     "inputWidgets": {},
     "nuid": "62e57879-033b-4638-89d5-125cbc93f237",
     "showTitle": false,
     "tableResultSettingsMap": {},
     "title": ""
    }
   },
   "outputs": [],
   "source": [
    "# Widgets for connection_id, schema_name, target_db, prefix, suffix, path_type, and storage details\n",
    "dbutils.widgets.text(\"connection_id\", \"\", \"Connection ID\")\n",
    "dbutils.widgets.text(\"schema_name\", \"\", \"Schema Name\")\n",
    "dbutils.widgets.text(\"target_db\", \"\", \"Target Databricks,abfss,s3,dbfs Database\")\n",
    "dbutils.widgets.text(\"target_prefix\", \"\", \"Target Table Prefix (optional)\")\n",
    "dbutils.widgets.text(\"target_suffix\", \"\", \"Target Table Suffix (optional)\")\n",
    "dbutils.widgets.text(\"target_path_type\", \"\", \"Target Path Type (optional)\")\n",
    "dbutils.widgets.text(\"target_container\", \"\", \"Target Container (for abfss)\")\n",
    "dbutils.widgets.text(\"target_account\", \"\", \"Target Account (for abfss)\")\n",
    "dbutils.widgets.text(\"target_bucket\", \"\", \"Target Bucket (for s3)\")\n",
    "dbutils.widgets.text(\"target_mount\", \"\", \"Target Mount (for dbfs)\")\n",
    "\n",
    "connection_id = dbutils.widgets.get(\"connection_id\")\n",
    "schema_name = dbutils.widgets.get(\"schema_name\")\n",
    "target_db = dbutils.widgets.get(\"target_db\")\n",
    "target_prefix = dbutils.widgets.get(\"target_prefix\")\n",
    "target_suffix = dbutils.widgets.get(\"target_suffix\")\n",
    "target_path_type = dbutils.widgets.get(\"target_path_type\")\n",
    "target_container = dbutils.widgets.get(\"target_container\")\n",
    "target_account = dbutils.widgets.get(\"target_account\")\n",
    "target_bucket = dbutils.widgets.get(\"target_bucket\")\n",
    "target_mount = dbutils.widgets.get(\"target_mount\")"
   ]
  },
  {
   "cell_type": "code",
   "execution_count": 0,
   "metadata": {
    "application/vnd.databricks.v1+cell": {
     "cellMetadata": {
      "byteLimit": 2048000,
      "rowLimit": 10000
     },
     "inputWidgets": {},
     "nuid": "b758536f-4a75-4fb3-9743-1c73d37f77ae",
     "showTitle": false,
     "tableResultSettingsMap": {},
     "title": ""
    }
   },
   "outputs": [
    {
     "output_type": "stream",
     "name": "stdout",
     "output_type": "stream",
     "text": [
      "Selected connection: conn_postgres_chinook (postgresql)\nSchema: public\n"
     ]
    }
   ],
   "source": [
    "# 3. Prompt user for connection selection and schema name\n",
    "#dbutils.widgets.text(\"connection_id\", \"\")\n",
    "#connection_id = dbutils.widgets.get(\"connection_id\")\n",
    "\n",
    "\n",
    "selected_conn = conn_df.filter(conn_df[\"connection_id\"] == connection_id).collect()[0]\n",
    "print(f\"Selected connection: {selected_conn.connection_id} ({selected_conn.type})\")\n",
    "schema_name = selected_conn.schema_name\n",
    "print(f\"Schema: {schema_name}\")"
   ]
  },
  {
   "cell_type": "code",
   "execution_count": 0,
   "metadata": {
    "application/vnd.databricks.v1+cell": {
     "cellMetadata": {
      "byteLimit": 2048000,
      "rowLimit": 10000
     },
     "inputWidgets": {},
     "nuid": "9ada1fc9-dc4f-4cbf-bf39-a8a12d13b5a7",
     "showTitle": false,
     "tableResultSettingsMap": {},
     "title": ""
    }
   },
   "outputs": [
    {
     "output_type": "stream",
     "name": "stdout",
     "output_type": "stream",
     "text": [
      "None\n"
     ]
    }
   ],
   "source": [
    "# 4. Trigger the auto-populate notebook\n",
    "result = dbutils.notebook.run(\"metadata_auto_populate\", 600, {\n",
    "    \"connection_id\": selected_conn.connection_id,\n",
    "    \"schema_name\": schema_name,\n",
    "    \"target_db\": target_db,\n",
    "    \"target_prefix\": target_prefix,\n",
    "    \"target_suffix\": target_suffix,\n",
    "    \"target_path_type\": target_path_type,\n",
    "    \"target_container\": target_container,\n",
    "    \"target_account\": target_account,\n",
    "    \"target_bucket\": target_bucket,\n",
    "    \"target_mount\": target_mount\n",
    "})\n",
    "print(result)"
   ]
  },
  {
   "cell_type": "code",
   "execution_count": 0,
   "metadata": {
    "application/vnd.databricks.v1+cell": {
     "cellMetadata": {
      "byteLimit": 2048000,
      "rowLimit": 10000
     },
     "inputWidgets": {},
     "nuid": "5502975c-8428-4878-8a8b-be521e84a0f5",
     "showTitle": false,
     "tableResultSettingsMap": {},
     "title": ""
    }
   },
   "outputs": [
    {
     "output_type": "display_data",
     "data": {
      "text/plain": [
       ""
      ]
     },
     "metadata": {
      "application/vnd.databricks.v1+output": {
       "addedWidgets": {},
       "arguments": {
        "connection_id": "conn_postgres_chinook"
       },
       "datasetInfos": [],
       "jupyterProps": null,
       "metadata": {
        "errorSummary": "Command skipped"
       },
       "removedWidgets": [],
       "sqlProps": null,
       "stackFrames": [],
       "type": "baseError"
      }
     },
     "output_type": "display_data"
    }
   ],
   "source": [
    "# 5. Show summary and next steps\n",
    "print(\"\\nMetadata population complete.\")\n",
    "print(\"You may now proceed to run metadata_driven_ingestion.py to ingest data from the populated tables.\")"
   ]
  }
 ],
 "metadata": {
  "application/vnd.databricks.v1+notebook": {
   "computePreferences": null,
   "dashboards": [],
   "environmentMetadata": {
    "base_environment": "",
    "environment_version": "2"
   },
   "inputWidgetPreferences": null,
   "language": "python",
   "notebookMetadata": {
    "mostRecentlyExecutedCommandWithImplicitDF": {
     "commandId": 4544866076666396,
     "dataframes": [
      "_sqldf"
     ]
    },
    "pythonIndentUnit": 4
   },
   "notebookName": "metadata_population_orchestration",
   "widgets": {
    "connection_id": {
     "currentValue": "conn_postgres_chinook",
     "nuid": "51b00063-ce91-4a87-b035-e5e76690fc1f",
     "typedWidgetInfo": {
      "autoCreated": false,
      "defaultValue": "",
      "label": "Connection ID",
      "name": "connection_id",
      "options": {
       "widgetDisplayType": "Text",
       "validationRegex": null
      },
      "parameterDataType": "String"
     },
     "widgetInfo": {
      "widgetType": "text",
      "defaultValue": "",
      "label": "Connection ID",
      "name": "connection_id",
      "options": {
       "widgetType": "text",
       "autoCreated": null,
       "validationRegex": null
      }
     }
    },
    "schema_name": {
     "currentValue": "public",
     "nuid": "d1085f58-91e5-41b0-a9c1-e47bd182c74c",
     "typedWidgetInfo": {
      "autoCreated": false,
      "defaultValue": "",
      "label": "Schema Name",
      "name": "schema_name",
      "options": {
       "widgetDisplayType": "Text",
       "validationRegex": null
      },
      "parameterDataType": "String"
     },
     "widgetInfo": {
      "widgetType": "text",
      "defaultValue": "",
      "label": "Schema Name",
      "name": "schema_name",
      "options": {
       "widgetType": "text",
       "autoCreated": null,
       "validationRegex": null
      }
     }
    },
    "target_account": {
     "currentValue": "",
     "nuid": "dc35a7a3-b01d-4435-983e-41097d51bf9d",
     "typedWidgetInfo": {
      "autoCreated": false,
      "defaultValue": "",
      "label": "Target Account (for abfss)",
      "name": "target_account",
      "options": {
       "widgetDisplayType": "Text",
       "validationRegex": null
      },
      "parameterDataType": "String"
     },
     "widgetInfo": {
      "widgetType": "text",
      "defaultValue": "",
      "label": "Target Account (for abfss)",
      "name": "target_account",
      "options": {
       "widgetType": "text",
       "autoCreated": null,
       "validationRegex": null
      }
     }
    },
    "target_bucket": {
     "currentValue": "",
     "nuid": "6faaa21d-06ae-4129-a0f3-b83b885a2fe6",
     "typedWidgetInfo": {
      "autoCreated": false,
      "defaultValue": "",
      "label": "Target Bucket (for s3)",
      "name": "target_bucket",
      "options": {
       "widgetDisplayType": "Text",
       "validationRegex": null
      },
      "parameterDataType": "String"
     },
     "widgetInfo": {
      "widgetType": "text",
      "defaultValue": "",
      "label": "Target Bucket (for s3)",
      "name": "target_bucket",
      "options": {
       "widgetType": "text",
       "autoCreated": null,
       "validationRegex": null
      }
     }
    },
    "target_container": {
     "currentValue": "",
     "nuid": "805d827a-9f7c-4119-a7fc-c03921d1202d",
     "typedWidgetInfo": {
      "autoCreated": false,
      "defaultValue": "",
      "label": "Target Container (for abfss)",
      "name": "target_container",
      "options": {
       "widgetDisplayType": "Text",
       "validationRegex": null
      },
      "parameterDataType": "String"
     },
     "widgetInfo": {
      "widgetType": "text",
      "defaultValue": "",
      "label": "Target Container (for abfss)",
      "name": "target_container",
      "options": {
       "widgetType": "text",
       "autoCreated": null,
       "validationRegex": null
      }
     }
    },
    "target_db": {
     "currentValue": "",
     "nuid": "d2d67725-4d5e-4838-9668-237b85c614d7",
     "typedWidgetInfo": {
      "autoCreated": false,
      "defaultValue": "",
      "label": "Target Databricks,abfss,s3,dbfs Database",
      "name": "target_db",
      "options": {
       "widgetDisplayType": "Text",
       "validationRegex": null
      },
      "parameterDataType": "String"
     },
     "widgetInfo": {
      "widgetType": "text",
      "defaultValue": "",
      "label": "Target Databricks,abfss,s3,dbfs Database",
      "name": "target_db",
      "options": {
       "widgetType": "text",
       "autoCreated": null,
       "validationRegex": null
      }
     }
    },
    "target_mount": {
     "currentValue": "",
     "nuid": "2639e3ff-e79b-4e8f-83c7-cdc4e94222a9",
     "typedWidgetInfo": {
      "autoCreated": false,
      "defaultValue": "",
      "label": "Target Mount (for dbfs)",
      "name": "target_mount",
      "options": {
       "widgetDisplayType": "Text",
       "validationRegex": null
      },
      "parameterDataType": "String"
     },
     "widgetInfo": {
      "widgetType": "text",
      "defaultValue": "",
      "label": "Target Mount (for dbfs)",
      "name": "target_mount",
      "options": {
       "widgetType": "text",
       "autoCreated": null,
       "validationRegex": null
      }
     }
    },
    "target_path_type": {
     "currentValue": "",
     "nuid": "613e86eb-f6cb-4878-95ab-42757ce6dcfb",
     "typedWidgetInfo": {
      "autoCreated": false,
      "defaultValue": "",
      "label": "Target Path Type (optional)",
      "name": "target_path_type",
      "options": {
       "widgetDisplayType": "Text",
       "validationRegex": null
      },
      "parameterDataType": "String"
     },
     "widgetInfo": {
      "widgetType": "text",
      "defaultValue": "",
      "label": "Target Path Type (optional)",
      "name": "target_path_type",
      "options": {
       "widgetType": "text",
       "autoCreated": null,
       "validationRegex": null
      }
     }
    },
    "target_prefix": {
     "currentValue": "",
     "nuid": "731a5d70-498b-4779-95e7-f57ea638e9c9",
     "typedWidgetInfo": {
      "autoCreated": false,
      "defaultValue": "",
      "label": "Target Table Prefix (optional)",
      "name": "target_prefix",
      "options": {
       "widgetDisplayType": "Text",
       "validationRegex": null
      },
      "parameterDataType": "String"
     },
     "widgetInfo": {
      "widgetType": "text",
      "defaultValue": "",
      "label": "Target Table Prefix (optional)",
      "name": "target_prefix",
      "options": {
       "widgetType": "text",
       "autoCreated": null,
       "validationRegex": null
      }
     }
    },
    "target_suffix": {
     "currentValue": "",
     "nuid": "0f0a134e-ccd8-42b9-9f8e-db1bcbdc662f",
     "typedWidgetInfo": {
      "autoCreated": false,
      "defaultValue": "",
      "label": "Target Table Suffix (optional)",
      "name": "target_suffix",
      "options": {
       "widgetDisplayType": "Text",
       "validationRegex": null
      },
      "parameterDataType": "String"
     },
     "widgetInfo": {
      "widgetType": "text",
      "defaultValue": "",
      "label": "Target Table Suffix (optional)",
      "name": "target_suffix",
      "options": {
       "widgetType": "text",
       "autoCreated": null,
       "validationRegex": null
      }
     }
    }
   }
  },
  "language_info": {
   "name": "python"
  }
 },
 "nbformat": 4,
 "nbformat_minor": 0
}