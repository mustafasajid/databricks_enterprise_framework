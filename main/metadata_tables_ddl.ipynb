{
 "cells": [
  {
   "cell_type": "markdown",
   "metadata": {
    "application/vnd.databricks.v1+cell": {
     "cellMetadata": {},
     "inputWidgets": {},
     "nuid": "f4eefa59-eff2-42b3-b14e-3bdda5cf236a",
     "showTitle": false,
     "tableResultSettingsMap": {},
     "title": ""
    }
   },
   "source": [
    "**connection_metadata** \n",
    "Stores information about data source connections, including type, host, port, database, schema, credentials, and additional options.\n",
    "\n",
    "**table_metadata**  \n",
    "Contains metadata for each onboarded table, such as table identifiers, connection references, table names, primary keys, partitioning, load frequency, flags, and configuration options.\n",
    "\n",
    "**column_metadata**  \n",
    "Holds column-level metadata for tables, including column names, data types, target mapping, nullability, and primary key designation.\n",
    "\n",
    "**datamart_metadata**  \n",
    "Catalogs available datamarts, providing unique identifiers, names, and descriptions for each datamart.\n",
    "\n",
    "**table_datamart_mapping** \n",
    "Maps tables to datamarts, establishing relationships between table identifiers and datamart identifiers.\n",
    "\n",
    "**byod_table_catalog** \n",
    "Maintains a catalog of tables available for onboarding (Bring Your Own Data), including connection, schema, table name, and onboarding status.\n",
    "\n",
    "**ingestion_schedule**  \n",
    "Defines ingestion schedules for connections or tables, specifying schedule type, cron expressions, activation status, and run timestamps.\n",
    "\n",
    "**run_metadata**  \n",
    "Records metadata for ingestion runs, including run identifiers, connection references, timestamps, user, and ingestion mode.\n",
    "\n",
    "**etl_run_logs**  \n",
    "Logs detailed ETL run information, capturing transaction and run IDs, table details, timestamps, mode, status, errors, target tables, row counts, and comments."
   ]
  },
  {
   "cell_type": "code",
   "execution_count": 0,
   "metadata": {
    "application/vnd.databricks.v1+cell": {
     "cellMetadata": {
      "byteLimit": 2048000,
      "rowLimit": 10000
     },
     "inputWidgets": {},
     "nuid": "f8572b0b-5b70-4a79-ae20-a4147dc1ca69",
     "showTitle": false,
     "tableResultSettingsMap": {},
     "title": ""
    }
   },
   "outputs": [],
   "source": [
    "-- Databricks SQL DDL for Metadata Tables\n",
    "\n",
    "-- 1. connection_metadata\n",
    "CREATE TABLE IF NOT EXISTS connection_metadata (\n",
    "  connection_id STRING,\n",
    "  type STRING,\n",
    "  host STRING,\n",
    "  port INT,\n",
    "  database STRING,\n",
    "  schema STRING,\n",
    "  username STRING,\n",
    "  password STRING,\n",
    "  options STRING\n",
    ") USING DELTA;\n",
    "\n"
   ]
  },
  {
   "cell_type": "code",
   "execution_count": 0,
   "metadata": {
    "application/vnd.databricks.v1+cell": {
     "cellMetadata": {
      "byteLimit": 2048000,
      "rowLimit": 10000
     },
     "inputWidgets": {},
     "nuid": "4bf042c8-b8a5-4bf9-aba5-69df885fbcdb",
     "showTitle": false,
     "tableResultSettingsMap": {},
     "title": ""
    }
   },
   "outputs": [],
   "source": [
    "-- 2. table_metadata\n",
    "CREATE TABLE IF NOT EXISTS table_metadata (\n",
    "  table_id STRING,\n",
    "  connection_id STRING,\n",
    "  table_name STRING,\n",
    "  table_call_name STRING,\n",
    "  target_table_name STRING,\n",
    "  table_type STRING,\n",
    "  primary_key_columns STRING,\n",
    "  watermark_column STRING,\n",
    "  partition_column STRING,\n",
    "  target_path STRING,\n",
    "  load_frequency STRING,\n",
    "  active_flag STRING,\n",
    "  comments STRING,\n",
    "  optimize_zorder_by STRING,\n",
    "  repartition_columns STRING,\n",
    "  num_output_files STRING,       -- changed from INT to STRING\n",
    "  write_mode STRING,\n",
    "  cache_intermediate STRING,     -- changed from BOOLEAN to STRING\n",
    "  target_db STRING,\n",
    "  onboarded_flag STRING\n",
    ") USING DELTA;"
   ]
  },
  {
   "cell_type": "code",
   "execution_count": 0,
   "metadata": {
    "application/vnd.databricks.v1+cell": {
     "cellMetadata": {
      "byteLimit": 2048000,
      "rowLimit": 10000
     },
     "inputWidgets": {},
     "nuid": "b8db4400-d4da-4aee-a741-5edc9dc028e7",
     "showTitle": false,
     "tableResultSettingsMap": {},
     "title": ""
    }
   },
   "outputs": [],
   "source": [
    "-- 3. column_metadata\n",
    "CREATE TABLE IF NOT EXISTS column_metadata (\n",
    "  table_id STRING,\n",
    "  column_name STRING,\n",
    "  data_type STRING,\n",
    "  target_type STRING,\n",
    "  target_column_name STRING, -- NEW: customizable target column name\n",
    "  nullable BOOLEAN,\n",
    "  is_primary_key STRING\n",
    ") USING DELTA;\n",
    "\n"
   ]
  },
  {
   "cell_type": "code",
   "execution_count": 0,
   "metadata": {
    "application/vnd.databricks.v1+cell": {
     "cellMetadata": {
      "byteLimit": 2048000,
      "rowLimit": 10000
     },
     "inputWidgets": {},
     "nuid": "7b5bdedd-525e-482b-8175-35ceb92fbd15",
     "showTitle": false,
     "tableResultSettingsMap": {},
     "title": ""
    }
   },
   "outputs": [],
   "source": [
    "-- 4. datamart_metadata\n",
    "CREATE TABLE IF NOT EXISTS datamart_metadata (\n",
    "  datamart_id STRING,\n",
    "  datamart_name STRING,\n",
    "  description STRING\n",
    ") USING DELTA;\n",
    "\n"
   ]
  },
  {
   "cell_type": "code",
   "execution_count": 0,
   "metadata": {
    "application/vnd.databricks.v1+cell": {
     "cellMetadata": {
      "byteLimit": 2048000,
      "rowLimit": 10000
     },
     "inputWidgets": {},
     "nuid": "911a76b3-c45a-4542-bcc1-6c5510ea40ac",
     "showTitle": false,
     "tableResultSettingsMap": {},
     "title": ""
    }
   },
   "outputs": [],
   "source": [
    "-- 5. table_datamart_mapping\n",
    "CREATE TABLE IF NOT EXISTS table_datamart_mapping (\n",
    "  table_id STRING,\n",
    "  datamart_id STRING\n",
    ") USING DELTA;\n",
    "\n"
   ]
  },
  {
   "cell_type": "code",
   "execution_count": 0,
   "metadata": {
    "application/vnd.databricks.v1+cell": {
     "cellMetadata": {
      "byteLimit": 2048000,
      "rowLimit": 10000
     },
     "inputWidgets": {},
     "nuid": "4361966f-3963-4b66-99cd-69e7e60d3667",
     "showTitle": false,
     "tableResultSettingsMap": {},
     "title": ""
    }
   },
   "outputs": [],
   "source": [
    "-- 6. byod_table_catalog\n",
    "CREATE TABLE IF NOT EXISTS byod_table_catalog (\n",
    "  catalog_id STRING,\n",
    "  connection_id STRING,\n",
    "  schema_name STRING,\n",
    "  table_name STRING,\n",
    "  onboarded_flag STRING\n",
    ") USING DELTA;\n",
    "\n"
   ]
  },
  {
   "cell_type": "code",
   "execution_count": 0,
   "metadata": {
    "application/vnd.databricks.v1+cell": {
     "cellMetadata": {
      "byteLimit": 2048000,
      "rowLimit": 10000
     },
     "inputWidgets": {},
     "nuid": "94340a38-9c3d-4652-a5e6-695f61fd37bd",
     "showTitle": false,
     "tableResultSettingsMap": {},
     "title": ""
    }
   },
   "outputs": [],
   "source": [
    "-- 7. ingestion_schedule\n",
    "CREATE TABLE IF NOT EXISTS ingestion_schedule (\n",
    "  schedule_id STRING,\n",
    "  connection_id STRING,\n",
    "  table_id STRING,\n",
    "  schedule_type STRING, -- 'connection' or 'table'\n",
    "  cron_expression STRING,\n",
    "  active_flag STRING,\n",
    "  last_run TIMESTAMP,\n",
    "  next_run TIMESTAMP,\n",
    "  comments STRING\n",
    ") USING DELTA;"
   ]
  },
  {
   "cell_type": "code",
   "execution_count": 0,
   "metadata": {
    "application/vnd.databricks.v1+cell": {
     "cellMetadata": {},
     "inputWidgets": {},
     "nuid": "0f9e945d-9506-45c0-9d4c-3131caecbe29",
     "showTitle": false,
     "tableResultSettingsMap": {},
     "title": ""
    }
   },
   "outputs": [],
   "source": [
    "-- 8. run_metadata\n",
    "\n",
    "CREATE TABLE IF NOT EXISTS run_metadata (\n",
    "    run_id STRING,\n",
    "    connection_id STRING,\n",
    "    dateandtime TIMESTAMP,\n",
    "    user STRING,\n",
    "    ingest_mode STRING\n",
    ") USING DELTA"
   ]
  },
  {
   "cell_type": "code",
   "execution_count": 0,
   "metadata": {
    "application/vnd.databricks.v1+cell": {
     "cellMetadata": {
      "byteLimit": 2048000,
      "rowLimit": 10000
     },
     "inputWidgets": {},
     "nuid": "9a8423ef-5d1c-4394-850b-fee50f0346d4",
     "showTitle": false,
     "tableResultSettingsMap": {},
     "title": ""
    }
   },
   "outputs": [
    {
     "output_type": "display_data",
     "data": {
      "text/html": [
       "<style scoped>\n",
       "  .table-result-container {\n",
       "    max-height: 300px;\n",
       "    overflow: auto;\n",
       "  }\n",
       "  table, th, td {\n",
       "    border: 1px solid black;\n",
       "    border-collapse: collapse;\n",
       "  }\n",
       "  th, td {\n",
       "    padding: 5px;\n",
       "  }\n",
       "  th {\n",
       "    text-align: left;\n",
       "  }\n",
       "</style><div class='table-result-container'><table class='table-result'><thead style='background-color: white'><tr></tr></thead><tbody></tbody></table></div>"
      ]
     },
     "metadata": {
      "application/vnd.databricks.v1+output": {
       "addedWidgets": {},
       "aggData": [],
       "aggError": "",
       "aggOverflow": false,
       "aggSchema": [],
       "aggSeriesLimitReached": false,
       "aggType": "",
       "arguments": {},
       "columnCustomDisplayInfos": {},
       "data": [],
       "datasetInfos": [],
       "dbfsResultPath": null,
       "isJsonSchema": true,
       "metadata": {},
       "overflow": false,
       "plotOptions": {
        "customPlotOptions": {},
        "displayType": "table",
        "pivotAggregation": null,
        "pivotColumns": null,
        "xColumns": null,
        "yColumns": null
       },
       "removedWidgets": [],
       "schema": [],
       "type": "table"
      }
     },
     "output_type": "display_data"
    }
   ],
   "source": [
    "-- 9. etl_run_logs\n",
    "\n",
    "CREATE TABLE IF NOT EXISTS workspace.default.etl_run_logs (\n",
    "    transaction_id STRING,\n",
    "    run_id STRING,\n",
    "    connection_id STRING,\n",
    "    table_id STRING,\n",
    "    table_name STRING,\n",
    "    dateandtime STRING,\n",
    "    mode STRING,\n",
    "    status STRING,\n",
    "    error STRING,\n",
    "    target_table STRING,\n",
    "    number_of_rows BIGINT,\n",
    "    other_comments STRING\n",
    ") USING DELTA\n"
   ]
  }
 ],
 "metadata": {
  "application/vnd.databricks.v1+notebook": {
   "computePreferences": null,
   "dashboards": [],
   "environmentMetadata": {
    "base_environment": "",
    "environment_version": "2"
   },
   "inputWidgetPreferences": null,
   "language": "sql",
   "notebookMetadata": {
    "pythonIndentUnit": 4
   },
   "notebookName": "metadata_tables_ddl",
   "widgets": {}
  },
  "language_info": {
   "name": "sql"
  }
 },
 "nbformat": 4,
 "nbformat_minor": 0
}